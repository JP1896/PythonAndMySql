{
 "cells": [
  {
   "cell_type": "markdown",
   "id": "293d1217",
   "metadata": {},
   "source": [
    "# The purpose of this script is to show two way to implement data in MySql\n",
    "## One way with a defined function and one without a function \n"
   ]
  },
  {
   "cell_type": "code",
   "execution_count": null,
   "id": "f8efea04",
   "metadata": {},
   "outputs": [],
   "source": [
    "#NOT using a function \n",
    "import mysql.connector\n",
    "\n",
    "#Establishing the connection with the database, in this case: host = localhost, name of the database = school, user and pass = root\n",
    "try:\n",
    "    connection = mysql.connector.connect(host='localhost',\n",
    "                                         database='school',\n",
    "                                         user='root',\n",
    "                                         password='root')\n",
    "#Inserting the same commands as workbench or cmd, INSERT INTO tableName(.....)\n",
    "#VALUES(........)\n",
    "    mySql_insert_query = \"\"\"INSERT INTO classroom1 (id, name, last_name, age) \n",
    "                           VALUES  (108,'Martin','Hermitage',20) \"\"\"\n",
    "\n",
    "    cursor = connection.cursor()\n",
    "    cursor.execute(mySql_insert_query)\n",
    "    connection.commit()\n",
    "    print(cursor.rowcount, \"Record inserted successfully into classroom1 table\")\n",
    "    cursor.close()\n",
    "#If connection fails\n",
    "except mysql.connector.Error as error:\n",
    "    print(\"Failed to insert record into classroom1 table {}\".format(error))\n",
    "#If connection success\n",
    "finally:\n",
    "    if connection.is_connected():\n",
    "        connection.close()\n",
    "        print(\"MySQL connection is closed\")\n",
    "\n",
    "\n",
    "\n",
    "\n"
   ]
  },
  {
   "cell_type": "code",
   "execution_count": null,
   "id": "6bc0d21e",
   "metadata": {},
   "outputs": [],
   "source": [
    "#USING a function \n",
    "import mysql.connector\n",
    "\n",
    "def insert_variables(id,name,last_name,age):\n",
    "\n",
    "#Establishing the connections with the database in MySql.....USER AND PASS : root\n",
    "    try:\n",
    "        connection = mysql.connector.connect(host='localhost',\n",
    "                                             database='school',\n",
    "                                             user='root',\n",
    "                                             password='root')\n",
    "\n",
    "        cursor = connection.cursor()\n",
    "        mySql_insert_query = \"\"\"INSERT INTO classroom1(id,name,last_name,age)\n",
    "                                 VALUES (%s, %s, %s, %s) \"\"\"\n",
    "\n",
    "\n",
    "        #****mySql_insert_query = \"\"\"INSERT INTO classroom1(id,name,last_name,age)\n",
    "        #****                         VALUES (104,'Devian','Lith',22)\"\"\"\n",
    "\n",
    "        #***cursor = connection.cursor()\n",
    "\n",
    "        record = (id,name,last_name,age)\n",
    "        cursor.execute(mySql_insert_query,record)\n",
    "        #****cursor.execute(mySql_insert_query)\n",
    "        connection.commit()\n",
    "        print(cursor.rowcount, \"Record inserted successfully into classroom1 table\")\n",
    "        cursor.close()\n",
    "\n",
    "    except mysql.connector.Error as error:\n",
    "        print(\"Failed to insert record into classroom1 table {}\".format(error))\n",
    "\n",
    "    finally:\n",
    "        if connection.is_connected():\n",
    "            connection.close()\n",
    "            print(\"MySQL connection is closed\")\n",
    "\n",
    "insert_variables(110,'Camila','Donovan',21)\n",
    "\n",
    "\n",
    "\n",
    "\n",
    "\n"
   ]
  }
 ],
 "metadata": {
  "kernelspec": {
   "display_name": "Python 3 (ipykernel)",
   "language": "python",
   "name": "python3"
  },
  "language_info": {
   "codemirror_mode": {
    "name": "ipython",
    "version": 3
   },
   "file_extension": ".py",
   "mimetype": "text/x-python",
   "name": "python",
   "nbconvert_exporter": "python",
   "pygments_lexer": "ipython3",
   "version": "3.9.6"
  }
 },
 "nbformat": 4,
 "nbformat_minor": 5
}
